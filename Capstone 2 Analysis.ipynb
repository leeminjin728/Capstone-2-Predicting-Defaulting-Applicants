{
 "cells": [
  {
   "cell_type": "markdown",
   "id": "2eba83d5",
   "metadata": {},
   "source": [
    "# Capstone 2: HMEQ"
   ]
  },
  {
   "cell_type": "markdown",
   "id": "a5a0b5d4",
   "metadata": {},
   "source": [
    "# Data Cleansing"
   ]
  },
  {
   "cell_type": "markdown",
   "id": "11df6e46",
   "metadata": {},
   "source": [
    "DATASET: https://www.kaggle.com/ajay1735/hmeq-data"
   ]
  },
  {
   "cell_type": "code",
   "execution_count": 1,
   "id": "2c0bdf64",
   "metadata": {},
   "outputs": [],
   "source": [
    "#Importing all necessary packages & dataset \n",
    "import pandas as pd\n",
    "import numpy as np\n",
    "import seaborn as sns\n",
    "import matplotlib.pyplot as plt\n",
    "from sklearn import preprocessing\n",
    "import statsmodels.api as sm\n",
    "\n",
    "df_raw = pd.read_csv(\"hmeq.csv\")"
   ]
  },
  {
   "cell_type": "code",
   "execution_count": 2,
   "id": "7103e033",
   "metadata": {},
   "outputs": [
    {
     "name": "stdout",
     "output_type": "stream",
     "text": [
      "(5960, 13)\n",
      "<class 'pandas.core.frame.DataFrame'>\n",
      "RangeIndex: 5960 entries, 0 to 5959\n",
      "Data columns (total 13 columns):\n",
      " #   Column   Non-Null Count  Dtype  \n",
      "---  ------   --------------  -----  \n",
      " 0   BAD      5960 non-null   int64  \n",
      " 1   LOAN     5960 non-null   int64  \n",
      " 2   MORTDUE  5442 non-null   float64\n",
      " 3   VALUE    5848 non-null   float64\n",
      " 4   REASON   5708 non-null   object \n",
      " 5   JOB      5681 non-null   object \n",
      " 6   YOJ      5445 non-null   float64\n",
      " 7   DEROG    5252 non-null   float64\n",
      " 8   DELINQ   5380 non-null   float64\n",
      " 9   CLAGE    5652 non-null   float64\n",
      " 10  NINQ     5450 non-null   float64\n",
      " 11  CLNO     5738 non-null   float64\n",
      " 12  DEBTINC  4693 non-null   float64\n",
      "dtypes: float64(9), int64(2), object(2)\n",
      "memory usage: 605.4+ KB\n"
     ]
    }
   ],
   "source": [
    "#To identify null values of each column\n",
    "print(df_raw.shape)\n",
    "df_raw.info()"
   ]
  },
  {
   "cell_type": "code",
   "execution_count": 3,
   "id": "b0cd284e",
   "metadata": {},
   "outputs": [
    {
     "data": {
      "text/html": [
       "<div>\n",
       "<style scoped>\n",
       "    .dataframe tbody tr th:only-of-type {\n",
       "        vertical-align: middle;\n",
       "    }\n",
       "\n",
       "    .dataframe tbody tr th {\n",
       "        vertical-align: top;\n",
       "    }\n",
       "\n",
       "    .dataframe thead th {\n",
       "        text-align: right;\n",
       "    }\n",
       "</style>\n",
       "<table border=\"1\" class=\"dataframe\">\n",
       "  <thead>\n",
       "    <tr style=\"text-align: right;\">\n",
       "      <th></th>\n",
       "      <th>BAD</th>\n",
       "      <th>LOAN</th>\n",
       "      <th>MORTDUE</th>\n",
       "      <th>VALUE</th>\n",
       "      <th>REASON</th>\n",
       "      <th>JOB</th>\n",
       "      <th>YOJ</th>\n",
       "      <th>DEROG</th>\n",
       "      <th>DELINQ</th>\n",
       "      <th>CLAGE</th>\n",
       "      <th>NINQ</th>\n",
       "      <th>CLNO</th>\n",
       "      <th>DEBTINC</th>\n",
       "    </tr>\n",
       "  </thead>\n",
       "  <tbody>\n",
       "    <tr>\n",
       "      <th>0</th>\n",
       "      <td>1</td>\n",
       "      <td>1100</td>\n",
       "      <td>25860.0</td>\n",
       "      <td>39025.0</td>\n",
       "      <td>HomeImp</td>\n",
       "      <td>Other</td>\n",
       "      <td>10.5</td>\n",
       "      <td>0.0</td>\n",
       "      <td>0.0</td>\n",
       "      <td>94.366667</td>\n",
       "      <td>1.0</td>\n",
       "      <td>9.0</td>\n",
       "      <td>NaN</td>\n",
       "    </tr>\n",
       "    <tr>\n",
       "      <th>1</th>\n",
       "      <td>1</td>\n",
       "      <td>1300</td>\n",
       "      <td>70053.0</td>\n",
       "      <td>68400.0</td>\n",
       "      <td>HomeImp</td>\n",
       "      <td>Other</td>\n",
       "      <td>7.0</td>\n",
       "      <td>0.0</td>\n",
       "      <td>2.0</td>\n",
       "      <td>121.833333</td>\n",
       "      <td>0.0</td>\n",
       "      <td>14.0</td>\n",
       "      <td>NaN</td>\n",
       "    </tr>\n",
       "    <tr>\n",
       "      <th>2</th>\n",
       "      <td>1</td>\n",
       "      <td>1500</td>\n",
       "      <td>13500.0</td>\n",
       "      <td>16700.0</td>\n",
       "      <td>HomeImp</td>\n",
       "      <td>Other</td>\n",
       "      <td>4.0</td>\n",
       "      <td>0.0</td>\n",
       "      <td>0.0</td>\n",
       "      <td>149.466667</td>\n",
       "      <td>1.0</td>\n",
       "      <td>10.0</td>\n",
       "      <td>NaN</td>\n",
       "    </tr>\n",
       "    <tr>\n",
       "      <th>3</th>\n",
       "      <td>1</td>\n",
       "      <td>1500</td>\n",
       "      <td>NaN</td>\n",
       "      <td>NaN</td>\n",
       "      <td>Other</td>\n",
       "      <td>Unknown</td>\n",
       "      <td>NaN</td>\n",
       "      <td>NaN</td>\n",
       "      <td>NaN</td>\n",
       "      <td>NaN</td>\n",
       "      <td>NaN</td>\n",
       "      <td>NaN</td>\n",
       "      <td>NaN</td>\n",
       "    </tr>\n",
       "    <tr>\n",
       "      <th>4</th>\n",
       "      <td>0</td>\n",
       "      <td>1700</td>\n",
       "      <td>97800.0</td>\n",
       "      <td>112000.0</td>\n",
       "      <td>HomeImp</td>\n",
       "      <td>Office</td>\n",
       "      <td>3.0</td>\n",
       "      <td>0.0</td>\n",
       "      <td>0.0</td>\n",
       "      <td>93.333333</td>\n",
       "      <td>0.0</td>\n",
       "      <td>14.0</td>\n",
       "      <td>NaN</td>\n",
       "    </tr>\n",
       "  </tbody>\n",
       "</table>\n",
       "</div>"
      ],
      "text/plain": [
       "   BAD  LOAN  MORTDUE     VALUE   REASON      JOB   YOJ  DEROG  DELINQ  \\\n",
       "0    1  1100  25860.0   39025.0  HomeImp    Other  10.5    0.0     0.0   \n",
       "1    1  1300  70053.0   68400.0  HomeImp    Other   7.0    0.0     2.0   \n",
       "2    1  1500  13500.0   16700.0  HomeImp    Other   4.0    0.0     0.0   \n",
       "3    1  1500      NaN       NaN    Other  Unknown   NaN    NaN     NaN   \n",
       "4    0  1700  97800.0  112000.0  HomeImp   Office   3.0    0.0     0.0   \n",
       "\n",
       "        CLAGE  NINQ  CLNO  DEBTINC  \n",
       "0   94.366667   1.0   9.0      NaN  \n",
       "1  121.833333   0.0  14.0      NaN  \n",
       "2  149.466667   1.0  10.0      NaN  \n",
       "3         NaN   NaN   NaN      NaN  \n",
       "4   93.333333   0.0  14.0      NaN  "
      ]
     },
     "execution_count": 3,
     "metadata": {},
     "output_type": "execute_result"
    }
   ],
   "source": [
    "#Replace all reason null values with \"Other\" as there are other less common reasons for loans. \n",
    "df_raw[\"REASON\"].fillna(\"Other\",inplace=True)\n",
    "\n",
    "#Replace all job null values with \"Unknown\" as \"Other\" already exists. \n",
    "df_raw[\"JOB\"].fillna(\"Unknown\",inplace=True)\n",
    "\n",
    "df_raw.head()"
   ]
  },
  {
   "cell_type": "code",
   "execution_count": 4,
   "id": "75a0fa11",
   "metadata": {},
   "outputs": [
    {
     "data": {
      "text/plain": [
       "BAD           0\n",
       "LOAN          0\n",
       "MORTDUE     518\n",
       "VALUE       112\n",
       "REASON        0\n",
       "JOB           0\n",
       "YOJ         515\n",
       "DEROG       708\n",
       "DELINQ      580\n",
       "CLAGE       308\n",
       "NINQ        510\n",
       "CLNO        222\n",
       "DEBTINC    1267\n",
       "dtype: int64"
      ]
     },
     "execution_count": 4,
     "metadata": {},
     "output_type": "execute_result"
    }
   ],
   "source": [
    "#To identify null count of each numeric variable column. Can see that missing values are spread out among variables instead of being from single column, so removing a single variable will not be necessary. \n",
    "df_raw.isna().sum()"
   ]
  },
  {
   "cell_type": "code",
   "execution_count": 32,
   "id": "15c77c66",
   "metadata": {},
   "outputs": [
    {
     "name": "stdout",
     "output_type": "stream",
     "text": [
      "<class 'pandas.core.frame.DataFrame'>\n",
      "Int64Index: 3515 entries, 5 to 5959\n",
      "Data columns (total 13 columns):\n",
      " #   Column   Non-Null Count  Dtype  \n",
      "---  ------   --------------  -----  \n",
      " 0   BAD      3515 non-null   int64  \n",
      " 1   LOAN     3515 non-null   int64  \n",
      " 2   MORTDUE  3515 non-null   float64\n",
      " 3   VALUE    3515 non-null   float64\n",
      " 4   REASON   3515 non-null   object \n",
      " 5   JOB      3515 non-null   object \n",
      " 6   YOJ      3515 non-null   float64\n",
      " 7   DEROG    3515 non-null   float64\n",
      " 8   DELINQ   3515 non-null   float64\n",
      " 9   CLAGE    3515 non-null   float64\n",
      " 10  NINQ     3515 non-null   float64\n",
      " 11  CLNO     3515 non-null   float64\n",
      " 12  DEBTINC  3515 non-null   float64\n",
      "dtypes: float64(9), int64(2), object(2)\n",
      "memory usage: 384.5+ KB\n"
     ]
    }
   ],
   "source": [
    "#Dropped all rows with null values in numeric variable column. \n",
    "df_clean = df_raw.dropna(axis=0, how='any')\n",
    "df_clean.info()"
   ]
  },
  {
   "cell_type": "code",
   "execution_count": 33,
   "id": "02776e7c",
   "metadata": {},
   "outputs": [
    {
     "data": {
      "text/html": [
       "<div>\n",
       "<style scoped>\n",
       "    .dataframe tbody tr th:only-of-type {\n",
       "        vertical-align: middle;\n",
       "    }\n",
       "\n",
       "    .dataframe tbody tr th {\n",
       "        vertical-align: top;\n",
       "    }\n",
       "\n",
       "    .dataframe thead th {\n",
       "        text-align: right;\n",
       "    }\n",
       "</style>\n",
       "<table border=\"1\" class=\"dataframe\">\n",
       "  <thead>\n",
       "    <tr style=\"text-align: right;\">\n",
       "      <th></th>\n",
       "      <th>BAD</th>\n",
       "      <th>LOAN</th>\n",
       "      <th>MORTDUE</th>\n",
       "      <th>VALUE</th>\n",
       "      <th>REASON</th>\n",
       "      <th>JOB</th>\n",
       "      <th>YOJ</th>\n",
       "      <th>DEROG</th>\n",
       "      <th>DELINQ</th>\n",
       "      <th>CLAGE</th>\n",
       "      <th>NINQ</th>\n",
       "      <th>CLNO</th>\n",
       "      <th>DEBTINC</th>\n",
       "    </tr>\n",
       "  </thead>\n",
       "  <tbody>\n",
       "    <tr>\n",
       "      <th>0</th>\n",
       "      <td>1</td>\n",
       "      <td>1700</td>\n",
       "      <td>30548.0</td>\n",
       "      <td>40320.0</td>\n",
       "      <td>HomeImp</td>\n",
       "      <td>Other</td>\n",
       "      <td>9.0</td>\n",
       "      <td>0.0</td>\n",
       "      <td>0.0</td>\n",
       "      <td>101.466002</td>\n",
       "      <td>1.0</td>\n",
       "      <td>8.0</td>\n",
       "      <td>37.113614</td>\n",
       "    </tr>\n",
       "    <tr>\n",
       "      <th>1</th>\n",
       "      <td>1</td>\n",
       "      <td>1800</td>\n",
       "      <td>28502.0</td>\n",
       "      <td>43034.0</td>\n",
       "      <td>HomeImp</td>\n",
       "      <td>Other</td>\n",
       "      <td>11.0</td>\n",
       "      <td>0.0</td>\n",
       "      <td>0.0</td>\n",
       "      <td>88.766030</td>\n",
       "      <td>0.0</td>\n",
       "      <td>8.0</td>\n",
       "      <td>36.884894</td>\n",
       "    </tr>\n",
       "    <tr>\n",
       "      <th>2</th>\n",
       "      <td>0</td>\n",
       "      <td>2300</td>\n",
       "      <td>102370.0</td>\n",
       "      <td>120953.0</td>\n",
       "      <td>HomeImp</td>\n",
       "      <td>Office</td>\n",
       "      <td>2.0</td>\n",
       "      <td>0.0</td>\n",
       "      <td>0.0</td>\n",
       "      <td>90.992533</td>\n",
       "      <td>0.0</td>\n",
       "      <td>13.0</td>\n",
       "      <td>31.588503</td>\n",
       "    </tr>\n",
       "    <tr>\n",
       "      <th>3</th>\n",
       "      <td>1</td>\n",
       "      <td>2400</td>\n",
       "      <td>34863.0</td>\n",
       "      <td>47471.0</td>\n",
       "      <td>HomeImp</td>\n",
       "      <td>Mgr</td>\n",
       "      <td>12.0</td>\n",
       "      <td>0.0</td>\n",
       "      <td>0.0</td>\n",
       "      <td>70.491080</td>\n",
       "      <td>1.0</td>\n",
       "      <td>21.0</td>\n",
       "      <td>38.263601</td>\n",
       "    </tr>\n",
       "    <tr>\n",
       "      <th>4</th>\n",
       "      <td>0</td>\n",
       "      <td>2400</td>\n",
       "      <td>98449.0</td>\n",
       "      <td>117195.0</td>\n",
       "      <td>HomeImp</td>\n",
       "      <td>Office</td>\n",
       "      <td>4.0</td>\n",
       "      <td>0.0</td>\n",
       "      <td>0.0</td>\n",
       "      <td>93.811775</td>\n",
       "      <td>0.0</td>\n",
       "      <td>13.0</td>\n",
       "      <td>29.681827</td>\n",
       "    </tr>\n",
       "  </tbody>\n",
       "</table>\n",
       "</div>"
      ],
      "text/plain": [
       "   BAD  LOAN   MORTDUE     VALUE   REASON     JOB   YOJ  DEROG  DELINQ  \\\n",
       "0    1  1700   30548.0   40320.0  HomeImp   Other   9.0    0.0     0.0   \n",
       "1    1  1800   28502.0   43034.0  HomeImp   Other  11.0    0.0     0.0   \n",
       "2    0  2300  102370.0  120953.0  HomeImp  Office   2.0    0.0     0.0   \n",
       "3    1  2400   34863.0   47471.0  HomeImp     Mgr  12.0    0.0     0.0   \n",
       "4    0  2400   98449.0  117195.0  HomeImp  Office   4.0    0.0     0.0   \n",
       "\n",
       "        CLAGE  NINQ  CLNO    DEBTINC  \n",
       "0  101.466002   1.0   8.0  37.113614  \n",
       "1   88.766030   0.0   8.0  36.884894  \n",
       "2   90.992533   0.0  13.0  31.588503  \n",
       "3   70.491080   1.0  21.0  38.263601  \n",
       "4   93.811775   0.0  13.0  29.681827  "
      ]
     },
     "execution_count": 33,
     "metadata": {},
     "output_type": "execute_result"
    }
   ],
   "source": [
    "#Reset index to ignore dropped rows.\n",
    "df_clean.reset_index(drop=True, inplace=True)\n",
    "df_clean.head()"
   ]
  },
  {
   "cell_type": "code",
   "execution_count": 12,
   "id": "a3937191",
   "metadata": {},
   "outputs": [
    {
     "data": {
      "text/html": [
       "<div>\n",
       "<style scoped>\n",
       "    .dataframe tbody tr th:only-of-type {\n",
       "        vertical-align: middle;\n",
       "    }\n",
       "\n",
       "    .dataframe tbody tr th {\n",
       "        vertical-align: top;\n",
       "    }\n",
       "\n",
       "    .dataframe thead th {\n",
       "        text-align: right;\n",
       "    }\n",
       "</style>\n",
       "<table border=\"1\" class=\"dataframe\">\n",
       "  <thead>\n",
       "    <tr style=\"text-align: right;\">\n",
       "      <th></th>\n",
       "      <th>BAD</th>\n",
       "      <th>LOAN</th>\n",
       "      <th>MORTDUE</th>\n",
       "      <th>VALUE</th>\n",
       "      <th>REASON</th>\n",
       "      <th>JOB</th>\n",
       "      <th>YOJ</th>\n",
       "      <th>DEROG</th>\n",
       "      <th>DELINQ</th>\n",
       "      <th>CLAGE</th>\n",
       "      <th>NINQ</th>\n",
       "      <th>CLNO</th>\n",
       "      <th>DEBTINC</th>\n",
       "    </tr>\n",
       "  </thead>\n",
       "  <tbody>\n",
       "    <tr>\n",
       "      <th>0</th>\n",
       "      <td>1</td>\n",
       "      <td>1700</td>\n",
       "      <td>30548.0</td>\n",
       "      <td>40320.0</td>\n",
       "      <td>2</td>\n",
       "      <td>6</td>\n",
       "      <td>9.0</td>\n",
       "      <td>0.0</td>\n",
       "      <td>0.0</td>\n",
       "      <td>101.466002</td>\n",
       "      <td>1.0</td>\n",
       "      <td>8.0</td>\n",
       "      <td>37.113614</td>\n",
       "    </tr>\n",
       "    <tr>\n",
       "      <th>1</th>\n",
       "      <td>1</td>\n",
       "      <td>1800</td>\n",
       "      <td>28502.0</td>\n",
       "      <td>43034.0</td>\n",
       "      <td>2</td>\n",
       "      <td>6</td>\n",
       "      <td>11.0</td>\n",
       "      <td>0.0</td>\n",
       "      <td>0.0</td>\n",
       "      <td>88.766030</td>\n",
       "      <td>0.0</td>\n",
       "      <td>8.0</td>\n",
       "      <td>36.884894</td>\n",
       "    </tr>\n",
       "    <tr>\n",
       "      <th>2</th>\n",
       "      <td>0</td>\n",
       "      <td>2300</td>\n",
       "      <td>102370.0</td>\n",
       "      <td>120953.0</td>\n",
       "      <td>2</td>\n",
       "      <td>2</td>\n",
       "      <td>2.0</td>\n",
       "      <td>0.0</td>\n",
       "      <td>0.0</td>\n",
       "      <td>90.992533</td>\n",
       "      <td>0.0</td>\n",
       "      <td>13.0</td>\n",
       "      <td>31.588503</td>\n",
       "    </tr>\n",
       "    <tr>\n",
       "      <th>3</th>\n",
       "      <td>1</td>\n",
       "      <td>2400</td>\n",
       "      <td>34863.0</td>\n",
       "      <td>47471.0</td>\n",
       "      <td>2</td>\n",
       "      <td>1</td>\n",
       "      <td>12.0</td>\n",
       "      <td>0.0</td>\n",
       "      <td>0.0</td>\n",
       "      <td>70.491080</td>\n",
       "      <td>1.0</td>\n",
       "      <td>21.0</td>\n",
       "      <td>38.263601</td>\n",
       "    </tr>\n",
       "    <tr>\n",
       "      <th>4</th>\n",
       "      <td>0</td>\n",
       "      <td>2400</td>\n",
       "      <td>98449.0</td>\n",
       "      <td>117195.0</td>\n",
       "      <td>2</td>\n",
       "      <td>2</td>\n",
       "      <td>4.0</td>\n",
       "      <td>0.0</td>\n",
       "      <td>0.0</td>\n",
       "      <td>93.811775</td>\n",
       "      <td>0.0</td>\n",
       "      <td>13.0</td>\n",
       "      <td>29.681827</td>\n",
       "    </tr>\n",
       "  </tbody>\n",
       "</table>\n",
       "</div>"
      ],
      "text/plain": [
       "   BAD  LOAN   MORTDUE     VALUE  REASON  JOB   YOJ  DEROG  DELINQ  \\\n",
       "0    1  1700   30548.0   40320.0       2    6   9.0    0.0     0.0   \n",
       "1    1  1800   28502.0   43034.0       2    6  11.0    0.0     0.0   \n",
       "2    0  2300  102370.0  120953.0       2    2   2.0    0.0     0.0   \n",
       "3    1  2400   34863.0   47471.0       2    1  12.0    0.0     0.0   \n",
       "4    0  2400   98449.0  117195.0       2    2   4.0    0.0     0.0   \n",
       "\n",
       "        CLAGE  NINQ  CLNO    DEBTINC  \n",
       "0  101.466002   1.0   8.0  37.113614  \n",
       "1   88.766030   0.0   8.0  36.884894  \n",
       "2   90.992533   0.0  13.0  31.588503  \n",
       "3   70.491080   1.0  21.0  38.263601  \n",
       "4   93.811775   0.0  13.0  29.681827  "
      ]
     },
     "execution_count": 12,
     "metadata": {},
     "output_type": "execute_result"
    }
   ],
   "source": [
    "#To replace categorical column values into numerical values. \n",
    "cleanup_reason = {\"DebtCon\":1,\"HomeImp\":2, \"Other\":3}\n",
    "df_clean[\"REASON\"].replace(cleanup_reason)\n",
    "\n",
    "cleanup_job = {\"Mgr\":1,\"Office\":2,\"ProfExe\":3,\"Sales\":4,\"Self\":5,\"Other\":6,\"Unknown\":7}\n",
    "df_clean[\"JOB\"].replace(cleanup_job)\n",
    "\n",
    "df_clean.head()"
   ]
  },
  {
   "cell_type": "markdown",
   "id": "0987eac6",
   "metadata": {},
   "source": [
    "# Data Analysis"
   ]
  },
  {
   "cell_type": "markdown",
   "id": "e54d8bcc",
   "metadata": {},
   "source": [
    "# Descriptive Statistics"
   ]
  },
  {
   "cell_type": "code",
   "execution_count": 14,
   "id": "9002c693",
   "metadata": {},
   "outputs": [
    {
     "data": {
      "text/plain": [
       "<AxesSubplot:>"
      ]
     },
     "execution_count": 14,
     "metadata": {},
     "output_type": "execute_result"
    },
    {
     "data": {
      "image/png": "[encoded data removed]",
      "text/plain": [
       "<Figure size 1440x360 with 2 Axes>"
      ]
     },
     "metadata": {
      "needs_background": "light"
     },
     "output_type": "display_data"
    }
   ],
   "source": [
    "#Correlation matrix to identify any high correlation between variables.  \n",
    "plt.figure(figsize=(20, 5))\n",
    "sns.heatmap(df_clean.corr(),vmin=-1,vmax=1,annot=True,cmap='BrBG')"
   ]
  },
  {
   "cell_type": "markdown",
   "id": "3ee724bc",
   "metadata": {},
   "source": [
    "The particularly noticable correlation is between MORTDUE and VALUE, which makes sense as higher the value of the property, the more likely it is that the mortgage due is higher."
   ]
  },
  {
   "cell_type": "code",
   "execution_count": 15,
   "id": "adf60759",
   "metadata": {},
   "outputs": [],
   "source": [
    "#Created two dataframes by paid/defaulted to separately analyze variables by \"BAD\" column. \n",
    "df_paid = df_clean[df_clean.BAD !=1]\n",
    "df_default = df_clean[df_clean.BAD !=0]"
   ]
  },
  {
   "cell_type": "code",
   "execution_count": 16,
   "id": "6d3e1f2e",
   "metadata": {},
   "outputs": [
    {
     "name": "stdout",
     "output_type": "stream",
     "text": [
      "                     0              1\n",
      "BAD           0.000000       1.000000\n",
      "LOAN      19295.352464   18072.815534\n",
      "MORTDUE   75788.554273   73905.721683\n",
      "VALUE    107260.962882  102879.275081\n",
      "REASON        1.325951       1.330097\n",
      "JOB           3.841859       4.029126\n",
      "YOJ           9.319401       7.566343\n",
      "DEROG         0.099813       0.631068\n",
      "DELINQ        0.202121       0.980583\n",
      "CLAGE       184.058081     150.211552\n",
      "NINQ          0.963194       1.644013\n",
      "CLNO         21.912352      22.391586\n",
      "DEBTINC      33.542040      40.123029\n"
     ]
    }
   ],
   "source": [
    "#First glance of defaulted vs. paid based on descriptive statistics.\n",
    "df_mean = pd.concat([df_paid.mean(), df_default.mean()], axis=1)\n",
    "print(df_mean)"
   ]
  },
  {
   "cell_type": "markdown",
   "id": "7fe5e1df",
   "metadata": {},
   "source": [
    "Few variables show high statistical significance, but will be good to take a deeper look into each variable by using visualizations. "
   ]
  },
  {
   "cell_type": "code",
   "execution_count": 89,
   "id": "44f66f1f",
   "metadata": {},
   "outputs": [
    {
     "data": {
      "image/png": "[encoded data removed]",
      "text/plain": [
       "<Figure size 360x216 with 1 Axes>"
      ]
     },
     "metadata": {},
     "output_type": "display_data"
    },
    {
     "data": {
      "image/png": "[encoded data removed]",
      "text/plain": [
       "<Figure size 360x216 with 1 Axes>"
      ]
     },
     "metadata": {},
     "output_type": "display_data"
    },
    {
     "data": {
      "image/png": "[encoded data removed]",
      "text/plain": [
       "<Figure size 360x216 with 1 Axes>"
      ]
     },
     "metadata": {},
     "output_type": "display_data"
    },
    {
     "data": {
      "image/png": "[encoded data removed]",
      "text/plain": [
       "<Figure size 360x216 with 1 Axes>"
      ]
     },
     "metadata": {},
     "output_type": "display_data"
    }
   ],
   "source": [
    "#Boxplot of LOAN\n",
    "plt.figure(figsize=(5, 3))\n",
    "sns.boxplot(y=\"LOAN\",x=\"BAD\", data=df_clean)\n",
    "plt.show()\n",
    "\n",
    "#Boxplot of MORTDUE\n",
    "plt.figure(figsize=(5, 3))\n",
    "sns.boxplot(y=\"MORTDUE\",x=\"BAD\", data=df_clean)\n",
    "plt.show()\n",
    "\n",
    "#Boxplot of VALUE\n",
    "plt.figure(figsize=(5, 3))\n",
    "sns.boxplot(y=\"VALUE\",x=\"BAD\", data=df_clean)\n",
    "plt.show()\n",
    "\n",
    "#Stacked bar for REASON\n",
    "cross_tab_prop = pd.crosstab(index=df_stats[\"REASON\"],\n",
    "                             columns=df_stats[\"BAD\"],\n",
    "                             normalize=\"index\")\n",
    "\n",
    "cross_tab_prop.plot(kind='bar', \n",
    "                    stacked=True, \n",
    "                    colormap='tab10', \n",
    "                    figsize=(5, 3))\n",
    "\n",
    "plt.legend(bbox_to_anchor=(1.05, 1))\n",
    "plt.xlabel(\"Reason\")\n",
    "plt.ylabel(\"Proportion\")\n",
    "plt.show()"
   ]
  },
  {
   "cell_type": "markdown",
   "id": "6f20f311",
   "metadata": {},
   "source": [
    "Box plots of LOAN, MORTDUE, VALUE, and REASON don't appear to show much difference between defaulted and paid clients. \n",
    "\n",
    "This could indicate that the nature/reason of the loan may not be a strong predictor of defaulting, but rather variables related to client demographics and/or client credit information. "
   ]
  },
  {
   "cell_type": "code",
   "execution_count": 91,
   "id": "58870bb8",
   "metadata": {},
   "outputs": [
    {
     "data": {
      "image/png": "[encoded data removed]",
      "text/plain": [
       "<Figure size 360x216 with 1 Axes>"
      ]
     },
     "metadata": {},
     "output_type": "display_data"
    },
    {
     "data": {
      "image/png": "[encoded data removed]",
      "text/plain": [
       "<Figure size 360x216 with 1 Axes>"
      ]
     },
     "metadata": {},
     "output_type": "display_data"
    },
    {
     "data": {
      "image/png": "[encoded data removed]",
      "text/plain": [
       "<Figure size 360x216 with 1 Axes>"
      ]
     },
     "metadata": {},
     "output_type": "display_data"
    }
   ],
   "source": [
    "#Proportional bar graph of JOB\n",
    "cross_tab_prop = pd.crosstab(index=df_stats[\"JOB\"],\n",
    "                             columns=df_stats[\"BAD\"],\n",
    "                             normalize=\"index\")\n",
    "\n",
    "cross_tab_prop.plot(kind='bar', \n",
    "                    stacked=True, \n",
    "                    colormap='tab10', \n",
    "                    figsize=(5, 3))\n",
    "\n",
    "plt.legend(bbox_to_anchor=(1.05, 1))\n",
    "plt.xlabel(\"Job\")\n",
    "plt.ylabel(\"Proportion\")\n",
    "plt.show()\n",
    "\n",
    "#Proportional bar graph of DEROG\n",
    "cross_tab_prop = pd.crosstab(index=df_stats[\"DEROG\"],\n",
    "                             columns=df_stats[\"BAD\"],\n",
    "                             normalize=\"index\")\n",
    "\n",
    "cross_tab_prop.plot(kind='bar', \n",
    "                    stacked=True, \n",
    "                    colormap='tab10', \n",
    "                    figsize=(5, 3))\n",
    "\n",
    "plt.legend(bbox_to_anchor=(1.05, 1))\n",
    "plt.xlabel(\"Derogatory Reports\")\n",
    "plt.ylabel(\"Proportion\")\n",
    "plt.show()\n",
    "\n",
    "#Proportional bar graph of DELINQ\n",
    "cross_tab_prop = pd.crosstab(index=df_clean[\"DELINQ\"],\n",
    "                             columns=df_clean[\"BAD\"],\n",
    "                             normalize=\"index\")\n",
    "\n",
    "cross_tab_prop.plot(kind='bar', \n",
    "                    stacked=True, \n",
    "                    colormap='tab10', \n",
    "                    figsize=(5, 3))\n",
    "\n",
    "plt.legend(bbox_to_anchor=(1.05, 1))\n",
    "plt.xlabel(\"Delinquent Credit Lines\")\n",
    "plt.ylabel(\"Proportion\")\n",
    "plt.show()"
   ]
  },
  {
   "cell_type": "markdown",
   "id": "2c18f2ae",
   "metadata": {},
   "source": [
    "JOBS in sales appear to have higher defaulting rate than other careers. \n",
    "DEROG chart shows that no paid clients have more than 3 derogatory reports. \n",
    "DELINQ chart shows that no paid clients have more than 4 delinquent credit lines. "
   ]
  },
  {
   "cell_type": "code",
   "execution_count": 94,
   "id": "905ce1cc",
   "metadata": {},
   "outputs": [
    {
     "data": {
      "image/png": "[encoded data removed]",
      "text/plain": [
       "<Figure size 720x360 with 1 Axes>"
      ]
     },
     "metadata": {},
     "output_type": "display_data"
    }
   ],
   "source": [
    "#Stacked bar graph to compare number of credit inquiries. \n",
    "cross_tab_prop = pd.crosstab(index=df_clean[\"BAD\"],\n",
    "                             columns=df_clean[\"NINQ\"],\n",
    "                             normalize=\"index\")\n",
    "\n",
    "cross_tab_prop.plot(kind='barh', \n",
    "                    stacked=True, \n",
    "                    colormap='tab20', \n",
    "                    figsize=(10, 5))\n",
    "\n",
    "plt.legend(bbox_to_anchor=(1.05, 1))\n",
    "plt.xlabel(\"Proportion\")\n",
    "plt.ylabel(\"Defaulted Status\")\n",
    "plt.show()"
   ]
  },
  {
   "cell_type": "markdown",
   "id": "2a944d50",
   "metadata": {},
   "source": [
    "Based on the bar graph above, paid clients appear to have less credit inquiries than defaulted clients. "
   ]
  },
  {
   "cell_type": "code",
   "execution_count": 97,
   "id": "c8fd64d8",
   "metadata": {},
   "outputs": [
    {
     "data": {
      "image/png": "[encoded data removed]",
      "text/plain": [
       "<Figure size 720x432 with 1 Axes>"
      ]
     },
     "metadata": {},
     "output_type": "display_data"
    }
   ],
   "source": [
    "#Bar graph to show distribution of credit lines of customers. \n",
    "cross_tab_prop = pd.crosstab(index=df_clean[\"CLNO\"],\n",
    "                             columns=df_clean[\"BAD\"])\n",
    "\n",
    "cross_tab_prop.plot(kind='bar', \n",
    "                    stacked=True, \n",
    "                    colormap='tab10', \n",
    "                    figsize=(10, 6))\n",
    "\n",
    "plt.legend(bbox_to_anchor=(1.05, 1))\n",
    "plt.xlabel(\"Number of Credit Lines\")\n",
    "plt.ylabel(\"Proportion\")\n",
    "plt.show()"
   ]
  },
  {
   "cell_type": "markdown",
   "id": "4c482697",
   "metadata": {},
   "source": [
    "The number of CREDIT LINES don't appear to have sigificant impact on defaulting. "
   ]
  },
  {
   "cell_type": "code",
   "execution_count": 96,
   "id": "3ec120a2",
   "metadata": {},
   "outputs": [
    {
     "data": {
      "image/png": "[encoded data removed]",
      "text/plain": [
       "<Figure size 360x216 with 1 Axes>"
      ]
     },
     "metadata": {},
     "output_type": "display_data"
    },
    {
     "data": {
      "image/png": "[encoded data removed]",
      "text/plain": [
       "<Figure size 360x216 with 1 Axes>"
      ]
     },
     "metadata": {},
     "output_type": "display_data"
    },
    {
     "data": {
      "image/png": "[encoded data removed]",
      "text/plain": [
       "<Figure size 360x216 with 1 Axes>"
      ]
     },
     "metadata": {},
     "output_type": "display_data"
    }
   ],
   "source": [
    "#Boxplot of CLAGE\n",
    "plt.figure(figsize=(5, 3))\n",
    "sns.boxplot(x=\"CLAGE\",y=\"BAD\", data=df_clean, orient='h')\n",
    "plt.show()\n",
    "\n",
    "#Boxplot of DEBTINC\n",
    "plt.figure(figsize=(5, 3))\n",
    "sns.boxplot(x=\"DEBTINC\",y=\"BAD\", data=df_clean, orient='h')\n",
    "plt.show()\n",
    "\n",
    "#Boxplot of YOJ\n",
    "plt.figure(figsize=(5, 3))\n",
    "sns.boxplot(x=\"YOJ\",y=\"BAD\", data=df_clean, orient='h')\n",
    "plt.show()"
   ]
  },
  {
   "cell_type": "markdown",
   "id": "87b4ea35",
   "metadata": {},
   "source": [
    "CLAGE boxplot shows that paid clients have older credit lines. \n",
    "DEBTINC boxplot shows that defaulting clients have higher debt to income ratio. \n",
    "YOJ boxplot shows that paid clients have higher years at their present job. "
   ]
  },
  {
   "cell_type": "markdown",
   "id": "87596944",
   "metadata": {},
   "source": [
    "Based on the visuals created, the following variables appear to be variables that are stronger indicators of defaulting: JOBS, DEROG, DELINQ, NINQ, CLAGE, DEBTINC, YOJ. We will continue with this analysis by conducting a predictive analysis in hopes to create model that can help predict defaulting clients. "
   ]
  },
  {
   "cell_type": "markdown",
   "id": "660f2a23",
   "metadata": {},
   "source": [
    "# Predictive Analysis"
   ]
  },
  {
   "cell_type": "markdown",
   "id": "3aa4dac4",
   "metadata": {},
   "source": [
    "# Linear Regression"
   ]
  },
  {
   "cell_type": "markdown",
   "id": "c3cc951d",
   "metadata": {},
   "source": [
    "Linear regression outputted R squared value of 0.254, which is extremely low to be able to predict an accurate outcome. Another predictive model will have to be used to achieve better predictability. "
   ]
  },
  {
   "cell_type": "code",
   "execution_count": 70,
   "id": "ebc1cedd",
   "metadata": {},
   "outputs": [
    {
     "data": {
      "text/html": [
       "<table class=\"simpletable\">\n",
       "<caption>OLS Regression Results</caption>\n",
       "<tr>\n",
       "  <th>Dep. Variable:</th>           <td>BAD</td>       <th>  R-squared (uncentered):</th>      <td>   0.254</td> \n",
       "</tr>\n",
       "<tr>\n",
       "  <th>Model:</th>                   <td>OLS</td>       <th>  Adj. R-squared (uncentered):</th> <td>   0.251</td> \n",
       "</tr>\n",
       "<tr>\n",
       "  <th>Method:</th>             <td>Least Squares</td>  <th>  F-statistic:       </th>          <td>   99.14</td> \n",
       "</tr>\n",
       "<tr>\n",
       "  <th>Date:</th>             <td>Wed, 05 Jan 2022</td> <th>  Prob (F-statistic):</th>          <td>5.81e-212</td>\n",
       "</tr>\n",
       "<tr>\n",
       "  <th>Time:</th>                 <td>22:56:51</td>     <th>  Log-Likelihood:    </th>          <td> -200.44</td> \n",
       "</tr>\n",
       "<tr>\n",
       "  <th>No. Observations:</th>      <td>  3515</td>      <th>  AIC:               </th>          <td>   424.9</td> \n",
       "</tr>\n",
       "<tr>\n",
       "  <th>Df Residuals:</th>          <td>  3503</td>      <th>  BIC:               </th>          <td>   498.9</td> \n",
       "</tr>\n",
       "<tr>\n",
       "  <th>Df Model:</th>              <td>    12</td>      <th>                     </th>              <td> </td>    \n",
       "</tr>\n",
       "<tr>\n",
       "  <th>Covariance Type:</th>      <td>nonrobust</td>    <th>                     </th>              <td> </td>    \n",
       "</tr>\n",
       "</table>\n",
       "<table class=\"simpletable\">\n",
       "<tr>\n",
       "     <td></td>        <th>coef</th>     <th>std err</th>      <th>t</th>      <th>P>|t|</th>  <th>[0.025</th>    <th>0.975]</th>  \n",
       "</tr>\n",
       "<tr>\n",
       "  <th>LOAN</th>    <td>-1.435e-06</td> <td> 4.25e-07</td> <td>   -3.375</td> <td> 0.001</td> <td>-2.27e-06</td> <td>-6.02e-07</td>\n",
       "</tr>\n",
       "<tr>\n",
       "  <th>MORTDUE</th> <td>-3.966e-07</td> <td> 2.06e-07</td> <td>   -1.921</td> <td> 0.055</td> <td>-8.01e-07</td> <td> 8.24e-09</td>\n",
       "</tr>\n",
       "<tr>\n",
       "  <th>VALUE</th>   <td> 3.267e-07</td> <td> 1.71e-07</td> <td>    1.906</td> <td> 0.057</td> <td> -9.3e-09</td> <td> 6.63e-07</td>\n",
       "</tr>\n",
       "<tr>\n",
       "  <th>REASON</th>  <td>   -0.0121</td> <td>    0.008</td> <td>   -1.499</td> <td> 0.134</td> <td>   -0.028</td> <td>    0.004</td>\n",
       "</tr>\n",
       "<tr>\n",
       "  <th>JOB</th>     <td>   -0.0014</td> <td>    0.002</td> <td>   -0.654</td> <td> 0.513</td> <td>   -0.006</td> <td>    0.003</td>\n",
       "</tr>\n",
       "<tr>\n",
       "  <th>YOJ</th>     <td>   -0.0013</td> <td>    0.001</td> <td>   -2.117</td> <td> 0.034</td> <td>   -0.002</td> <td>-9.32e-05</td>\n",
       "</tr>\n",
       "<tr>\n",
       "  <th>DEROG</th>   <td>    0.0988</td> <td>    0.008</td> <td>   12.721</td> <td> 0.000</td> <td>    0.084</td> <td>    0.114</td>\n",
       "</tr>\n",
       "<tr>\n",
       "  <th>DELINQ</th>  <td>    0.0863</td> <td>    0.006</td> <td>   15.477</td> <td> 0.000</td> <td>    0.075</td> <td>    0.097</td>\n",
       "</tr>\n",
       "<tr>\n",
       "  <th>CLAGE</th>   <td>   -0.0003</td> <td> 5.52e-05</td> <td>   -6.095</td> <td> 0.000</td> <td>   -0.000</td> <td>   -0.000</td>\n",
       "</tr>\n",
       "<tr>\n",
       "  <th>NINQ</th>    <td>    0.0094</td> <td>    0.003</td> <td>    3.181</td> <td> 0.001</td> <td>    0.004</td> <td>    0.015</td>\n",
       "</tr>\n",
       "<tr>\n",
       "  <th>CLNO</th>    <td>   -0.0018</td> <td>    0.000</td> <td>   -3.579</td> <td> 0.000</td> <td>   -0.003</td> <td>   -0.001</td>\n",
       "</tr>\n",
       "<tr>\n",
       "  <th>DEBTINC</th> <td>    0.0058</td> <td>    0.000</td> <td>   12.785</td> <td> 0.000</td> <td>    0.005</td> <td>    0.007</td>\n",
       "</tr>\n",
       "</table>\n",
       "<table class=\"simpletable\">\n",
       "<tr>\n",
       "  <th>Omnibus:</th>       <td>1861.887</td> <th>  Durbin-Watson:     </th> <td>   1.933</td> \n",
       "</tr>\n",
       "<tr>\n",
       "  <th>Prob(Omnibus):</th>  <td> 0.000</td>  <th>  Jarque-Bera (JB):  </th> <td>10215.178</td>\n",
       "</tr>\n",
       "<tr>\n",
       "  <th>Skew:</th>           <td> 2.602</td>  <th>  Prob(JB):          </th> <td>    0.00</td> \n",
       "</tr>\n",
       "<tr>\n",
       "  <th>Kurtosis:</th>       <td> 9.531</td>  <th>  Cond. No.          </th> <td>2.79e+05</td> \n",
       "</tr>\n",
       "</table><br/><br/>Notes:<br/>[1] R² is computed without centering (uncentered) since the model does not contain a constant.<br/>[2] Standard Errors assume that the covariance matrix of the errors is correctly specified.<br/>[3] The condition number is large, 2.79e+05. This might indicate that there are<br/>strong multicollinearity or other numerical problems."
      ],
      "text/plain": [
       "<class 'statsmodels.iolib.summary.Summary'>\n",
       "\"\"\"\n",
       "                                 OLS Regression Results                                \n",
       "=======================================================================================\n",
       "Dep. Variable:                    BAD   R-squared (uncentered):                   0.254\n",
       "Model:                            OLS   Adj. R-squared (uncentered):              0.251\n",
       "Method:                 Least Squares   F-statistic:                              99.14\n",
       "Date:                Wed, 05 Jan 2022   Prob (F-statistic):                   5.81e-212\n",
       "Time:                        22:56:51   Log-Likelihood:                         -200.44\n",
       "No. Observations:                3515   AIC:                                      424.9\n",
       "Df Residuals:                    3503   BIC:                                      498.9\n",
       "Df Model:                          12                                                  \n",
       "Covariance Type:            nonrobust                                                  \n",
       "==============================================================================\n",
       "                 coef    std err          t      P>|t|      [0.025      0.975]\n",
       "------------------------------------------------------------------------------\n",
       "LOAN       -1.435e-06   4.25e-07     -3.375      0.001   -2.27e-06   -6.02e-07\n",
       "MORTDUE    -3.966e-07   2.06e-07     -1.921      0.055   -8.01e-07    8.24e-09\n",
       "VALUE       3.267e-07   1.71e-07      1.906      0.057    -9.3e-09    6.63e-07\n",
       "REASON        -0.0121      0.008     -1.499      0.134      -0.028       0.004\n",
       "JOB           -0.0014      0.002     -0.654      0.513      -0.006       0.003\n",
       "YOJ           -0.0013      0.001     -2.117      0.034      -0.002   -9.32e-05\n",
       "DEROG          0.0988      0.008     12.721      0.000       0.084       0.114\n",
       "DELINQ         0.0863      0.006     15.477      0.000       0.075       0.097\n",
       "CLAGE         -0.0003   5.52e-05     -6.095      0.000      -0.000      -0.000\n",
       "NINQ           0.0094      0.003      3.181      0.001       0.004       0.015\n",
       "CLNO          -0.0018      0.000     -3.579      0.000      -0.003      -0.001\n",
       "DEBTINC        0.0058      0.000     12.785      0.000       0.005       0.007\n",
       "==============================================================================\n",
       "Omnibus:                     1861.887   Durbin-Watson:                   1.933\n",
       "Prob(Omnibus):                  0.000   Jarque-Bera (JB):            10215.178\n",
       "Skew:                           2.602   Prob(JB):                         0.00\n",
       "Kurtosis:                       9.531   Cond. No.                     2.79e+05\n",
       "==============================================================================\n",
       "\n",
       "Notes:\n",
       "[1] R² is computed without centering (uncentered) since the model does not contain a constant.\n",
       "[2] Standard Errors assume that the covariance matrix of the errors is correctly specified.\n",
       "[3] The condition number is large, 2.79e+05. This might indicate that there are\n",
       "strong multicollinearity or other numerical problems.\n",
       "\"\"\""
      ]
     },
     "execution_count": 70,
     "metadata": {},
     "output_type": "execute_result"
    }
   ],
   "source": [
    "X = df_clean[[\"LOAN\",\"MORTDUE\",\"VALUE\",\"REASON\",\"JOB\",\"YOJ\",\"DEROG\",\"DELINQ\",\"CLAGE\",\"NINQ\",\"CLNO\",\"DEBTINC\"]]\n",
    "y = df_clean[\"BAD\"]\n",
    "\n",
    "model = sm.OLS(y, X).fit()\n",
    "predictions = model.predict(X)\n",
    "\n",
    "model.summary()"
   ]
  },
  {
   "cell_type": "markdown",
   "id": "633ac14c",
   "metadata": {},
   "source": [
    "# Logistical regression"
   ]
  },
  {
   "cell_type": "code",
   "execution_count": 21,
   "id": "5b6bec75",
   "metadata": {},
   "outputs": [
    {
     "name": "stdout",
     "output_type": "stream",
     "text": [
      "Requirement already satisfied: imblearn in c:\\users\\leemi.desktop-4tq7u6r\\anaconda3\\lib\\site-packages (0.0)\n",
      "Requirement already satisfied: imbalanced-learn in c:\\users\\leemi.desktop-4tq7u6r\\anaconda3\\lib\\site-packages (from imblearn) (0.8.1)\n",
      "Requirement already satisfied: scipy>=0.19.1 in c:\\users\\leemi.desktop-4tq7u6r\\anaconda3\\lib\\site-packages (from imbalanced-learn->imblearn) (1.6.2)\n",
      "Requirement already satisfied: numpy>=1.13.3 in c:\\users\\leemi.desktop-4tq7u6r\\anaconda3\\lib\\site-packages (from imbalanced-learn->imblearn) (1.20.1)\n",
      "Requirement already satisfied: scikit-learn>=0.24 in c:\\users\\leemi.desktop-4tq7u6r\\anaconda3\\lib\\site-packages (from imbalanced-learn->imblearn) (0.24.1)\n",
      "Requirement already satisfied: joblib>=0.11 in c:\\users\\leemi.desktop-4tq7u6r\\anaconda3\\lib\\site-packages (from imbalanced-learn->imblearn) (1.0.1)\n",
      "Requirement already satisfied: threadpoolctl>=2.0.0 in c:\\users\\leemi.desktop-4tq7u6r\\anaconda3\\lib\\site-packages (from scikit-learn>=0.24->imbalanced-learn->imblearn) (2.1.0)\n"
     ]
    }
   ],
   "source": [
    "#Importing additional necessary packages\n",
    "!pip install imblearn\n",
    "import pandas as pd\n",
    "import numpy as np\n",
    "from sklearn import preprocessing\n",
    "import matplotlib.pyplot as plt \n",
    "plt.rc(\"font\", size=14)\n",
    "from sklearn.linear_model import LogisticRegression\n",
    "from sklearn.model_selection import train_test_split\n",
    "import seaborn as sns\n",
    "sns.set(style=\"white\")\n",
    "sns.set(style=\"whitegrid\", color_codes=True)"
   ]
  },
  {
   "cell_type": "code",
   "execution_count": 49,
   "id": "41eea53a",
   "metadata": {},
   "outputs": [
    {
     "data": {
      "text/html": [
       "<div>\n",
       "<style scoped>\n",
       "    .dataframe tbody tr th:only-of-type {\n",
       "        vertical-align: middle;\n",
       "    }\n",
       "\n",
       "    .dataframe tbody tr th {\n",
       "        vertical-align: top;\n",
       "    }\n",
       "\n",
       "    .dataframe thead th {\n",
       "        text-align: right;\n",
       "    }\n",
       "</style>\n",
       "<table border=\"1\" class=\"dataframe\">\n",
       "  <thead>\n",
       "    <tr style=\"text-align: right;\">\n",
       "      <th></th>\n",
       "      <th>BAD</th>\n",
       "      <th>LOAN</th>\n",
       "      <th>MORTDUE</th>\n",
       "      <th>VALUE</th>\n",
       "      <th>REASON</th>\n",
       "      <th>JOB</th>\n",
       "      <th>YOJ</th>\n",
       "      <th>DEROG</th>\n",
       "      <th>DELINQ</th>\n",
       "      <th>CLAGE</th>\n",
       "      <th>NINQ</th>\n",
       "      <th>CLNO</th>\n",
       "      <th>DEBTINC</th>\n",
       "    </tr>\n",
       "  </thead>\n",
       "  <tbody>\n",
       "    <tr>\n",
       "      <th>0</th>\n",
       "      <td>1</td>\n",
       "      <td>1700</td>\n",
       "      <td>30548.0</td>\n",
       "      <td>40320.0</td>\n",
       "      <td>HomeImp</td>\n",
       "      <td>Other</td>\n",
       "      <td>9.0</td>\n",
       "      <td>0.0</td>\n",
       "      <td>0.0</td>\n",
       "      <td>101.466002</td>\n",
       "      <td>1.0</td>\n",
       "      <td>8.0</td>\n",
       "      <td>37.113614</td>\n",
       "    </tr>\n",
       "    <tr>\n",
       "      <th>1</th>\n",
       "      <td>1</td>\n",
       "      <td>1800</td>\n",
       "      <td>28502.0</td>\n",
       "      <td>43034.0</td>\n",
       "      <td>HomeImp</td>\n",
       "      <td>Other</td>\n",
       "      <td>11.0</td>\n",
       "      <td>0.0</td>\n",
       "      <td>0.0</td>\n",
       "      <td>88.766030</td>\n",
       "      <td>0.0</td>\n",
       "      <td>8.0</td>\n",
       "      <td>36.884894</td>\n",
       "    </tr>\n",
       "    <tr>\n",
       "      <th>2</th>\n",
       "      <td>0</td>\n",
       "      <td>2300</td>\n",
       "      <td>102370.0</td>\n",
       "      <td>120953.0</td>\n",
       "      <td>HomeImp</td>\n",
       "      <td>Office</td>\n",
       "      <td>2.0</td>\n",
       "      <td>0.0</td>\n",
       "      <td>0.0</td>\n",
       "      <td>90.992533</td>\n",
       "      <td>0.0</td>\n",
       "      <td>13.0</td>\n",
       "      <td>31.588503</td>\n",
       "    </tr>\n",
       "    <tr>\n",
       "      <th>3</th>\n",
       "      <td>1</td>\n",
       "      <td>2400</td>\n",
       "      <td>34863.0</td>\n",
       "      <td>47471.0</td>\n",
       "      <td>HomeImp</td>\n",
       "      <td>Mgr</td>\n",
       "      <td>12.0</td>\n",
       "      <td>0.0</td>\n",
       "      <td>0.0</td>\n",
       "      <td>70.491080</td>\n",
       "      <td>1.0</td>\n",
       "      <td>21.0</td>\n",
       "      <td>38.263601</td>\n",
       "    </tr>\n",
       "    <tr>\n",
       "      <th>4</th>\n",
       "      <td>0</td>\n",
       "      <td>2400</td>\n",
       "      <td>98449.0</td>\n",
       "      <td>117195.0</td>\n",
       "      <td>HomeImp</td>\n",
       "      <td>Office</td>\n",
       "      <td>4.0</td>\n",
       "      <td>0.0</td>\n",
       "      <td>0.0</td>\n",
       "      <td>93.811775</td>\n",
       "      <td>0.0</td>\n",
       "      <td>13.0</td>\n",
       "      <td>29.681827</td>\n",
       "    </tr>\n",
       "  </tbody>\n",
       "</table>\n",
       "</div>"
      ],
      "text/plain": [
       "   BAD  LOAN   MORTDUE     VALUE   REASON     JOB   YOJ  DEROG  DELINQ  \\\n",
       "0    1  1700   30548.0   40320.0  HomeImp   Other   9.0    0.0     0.0   \n",
       "1    1  1800   28502.0   43034.0  HomeImp   Other  11.0    0.0     0.0   \n",
       "2    0  2300  102370.0  120953.0  HomeImp  Office   2.0    0.0     0.0   \n",
       "3    1  2400   34863.0   47471.0  HomeImp     Mgr  12.0    0.0     0.0   \n",
       "4    0  2400   98449.0  117195.0  HomeImp  Office   4.0    0.0     0.0   \n",
       "\n",
       "        CLAGE  NINQ  CLNO    DEBTINC  \n",
       "0  101.466002   1.0   8.0  37.113614  \n",
       "1   88.766030   0.0   8.0  36.884894  \n",
       "2   90.992533   0.0  13.0  31.588503  \n",
       "3   70.491080   1.0  21.0  38.263601  \n",
       "4   93.811775   0.0  13.0  29.681827  "
      ]
     },
     "execution_count": 49,
     "metadata": {},
     "output_type": "execute_result"
    }
   ],
   "source": [
    "#Created separate dataset to be used for predictive model later in notebook. \n",
    "df_stats = df_raw.dropna(axis=0, how='any')\n",
    "df_stats.reset_index(drop=True, inplace=True)\n",
    "df_stats.head()"
   ]
  },
  {
   "cell_type": "code",
   "execution_count": 50,
   "id": "80347e99",
   "metadata": {},
   "outputs": [],
   "source": [
    "#Creating separate columns for \"REASON\" and \"JOB\" into binary. \n",
    "cat_vars=[\"REASON\",\"JOB\"]\n",
    "for var in cat_vars:\n",
    "    cat_list='var'+'_'+var\n",
    "    cat_list = pd.get_dummies(df_stats[var], prefix=var)\n",
    "    data1=df_stats.join(cat_list)\n",
    "    df_stats=data1\n",
    "    \n",
    "cat_vars=[\"REASON\",\"JOB\"]\n",
    "data_vars=df_stats.columns.values.tolist()\n",
    "to_keep=[i for i in data_vars if i not in cat_vars]"
   ]
  },
  {
   "cell_type": "code",
   "execution_count": 51,
   "id": "dbd4c87b",
   "metadata": {},
   "outputs": [
    {
     "data": {
      "text/plain": [
       "array(['BAD', 'LOAN', 'MORTDUE', 'VALUE', 'YOJ', 'DEROG', 'DELINQ',\n",
       "       'CLAGE', 'NINQ', 'CLNO', 'DEBTINC', 'REASON_DebtCon',\n",
       "       'REASON_HomeImp', 'REASON_Other', 'JOB_Mgr', 'JOB_Office',\n",
       "       'JOB_Other', 'JOB_ProfExe', 'JOB_Sales', 'JOB_Self', 'JOB_Unknown'],\n",
       "      dtype=object)"
      ]
     },
     "execution_count": 51,
     "metadata": {},
     "output_type": "execute_result"
    }
   ],
   "source": [
    "data_final=df_stats[to_keep]\n",
    "data_final.columns.values"
   ]
  },
  {
   "cell_type": "code",
   "execution_count": 54,
   "id": "b957cdf8",
   "metadata": {},
   "outputs": [
    {
     "name": "stdout",
     "output_type": "stream",
     "text": [
      "length of oversampled data is  4508\n",
      "Number of no subscription in oversampled data 2254\n",
      "Number of subscription 2254\n",
      "Proportion of no subscription data in oversampled data is  0.5\n",
      "Proportion of subscription data in oversampled data is  0.5\n"
     ]
    }
   ],
   "source": [
    "#Upsampling defaulted using SMOTE algorithm. \n",
    "X = data_final.loc[:, data_final.columns != 'BAD']\n",
    "y = data_final.loc[:, data_final.columns == 'BAD']\n",
    "y=y.astype('int')\n",
    "\n",
    "from imblearn import under_sampling, over_sampling\n",
    "from imblearn.over_sampling import SMOTE\n",
    "\n",
    "os = SMOTE(random_state=0)\n",
    "X_train, X_test, y_train, y_test = train_test_split(X, y, test_size=0.3, random_state=0)\n",
    "columns = X_train.columns\n",
    "os_data_X,os_data_y=os.fit_resample(X_train, y_train)\n",
    "os_data_X = pd.DataFrame(data=os_data_X,columns=columns )\n",
    "os_data_y= pd.DataFrame(data=os_data_y,columns=['BAD'])\n",
    "# we can Check the numbers of our data\n",
    "print(\"length of oversampled data is \",len(os_data_X))\n",
    "print(\"Number of no subscription in oversampled data\",len(os_data_y[os_data_y['BAD']==0]))\n",
    "print(\"Number of subscription\",len(os_data_y[os_data_y['BAD']==1]))\n",
    "print(\"Proportion of no subscription data in oversampled data is \",len(os_data_y[os_data_y['BAD']==0])/len(os_data_X))\n",
    "print(\"Proportion of subscription data in oversampled data is \",len(os_data_y[os_data_y['BAD']==1])/len(os_data_X))"
   ]
  },
  {
   "cell_type": "code",
   "execution_count": 57,
   "id": "868da26c",
   "metadata": {},
   "outputs": [
    {
     "name": "stdout",
     "output_type": "stream",
     "text": [
      "[ True  True  True  True  True  True  True  True  True  True  True  True\n",
      "  True  True  True  True  True  True  True  True]\n",
      "[1 1 1 1 1 1 1 1 1 1 1 1 1 1 1 1 1 1 1 1]\n"
     ]
    },
    {
     "name": "stderr",
     "output_type": "stream",
     "text": [
      "C:\\Users\\leemi.DESKTOP-4TQ7U6R\\anaconda3\\lib\\site-packages\\sklearn\\utils\\validation.py:70: FutureWarning: Pass n_features_to_select=25 as keyword args. From version 1.0 (renaming of 0.25) passing these as positional arguments will result in an error\n",
      "  warnings.warn(f\"Pass {args_msg} as keyword args. From version \"\n"
     ]
    }
   ],
   "source": [
    "#Recursive Feature Elimination (RFE) to choose best or worst performing features. \n",
    "data_final_vars=data_final.columns.values.tolist()\n",
    "y=['BAD']\n",
    "X=[i for i in data_final_vars if i not in y]\n",
    "from sklearn.feature_selection import RFE\n",
    "from sklearn.linear_model import LogisticRegression\n",
    "logreg = LogisticRegression()\n",
    "rfe = RFE(logreg,25)\n",
    "rfe = rfe.fit(os_data_X, os_data_y.values.ravel())\n",
    "print(rfe.support_)\n",
    "print(rfe.ranking_)"
   ]
  },
  {
   "cell_type": "code",
   "execution_count": 58,
   "id": "cc635bca",
   "metadata": {},
   "outputs": [],
   "source": [
    "cols=['LOAN', 'MORTDUE', 'VALUE', 'YOJ', 'DEROG', 'DELINQ','CLAGE', 'NINQ', 'CLNO', 'DEBTINC', 'REASON_DebtCon','REASON_HomeImp', 'REASON_Other', 'JOB_Mgr', 'JOB_Office','JOB_Other', 'JOB_ProfExe', 'JOB_Sales', 'JOB_Self', 'JOB_Unknown']\n",
    "X=os_data_X[cols]\n",
    "y=os_data_y['BAD']"
   ]
  },
  {
   "cell_type": "code",
   "execution_count": 59,
   "id": "b2489402",
   "metadata": {},
   "outputs": [
    {
     "name": "stdout",
     "output_type": "stream",
     "text": [
      "Optimization terminated successfully.\n",
      "         Current function value: 0.273195\n",
      "         Iterations 9\n",
      "                         Results: Logit\n",
      "================================================================\n",
      "Model:              Logit            Pseudo R-squared: 0.606    \n",
      "Dependent Variable: BAD              AIC:              2503.1300\n",
      "Date:               2022-01-05 15:06 BIC:              2631.4021\n",
      "No. Observations:   4508             Log-Likelihood:   -1231.6  \n",
      "Df Model:           19               LL-Null:          -3124.7  \n",
      "Df Residuals:       4488             LLR p-value:      0.0000   \n",
      "Converged:          1.0000           Scale:            1.0000   \n",
      "No. Iterations:     9.0000                                      \n",
      "----------------------------------------------------------------\n",
      "                Coef.  Std.Err.    z     P>|z|   [0.025   0.975]\n",
      "----------------------------------------------------------------\n",
      "LOAN           -0.0000   0.0000  -4.2196 0.0000  -0.0000 -0.0000\n",
      "MORTDUE        -0.0000   0.0000  -0.4754 0.6345  -0.0000  0.0000\n",
      "VALUE           0.0000   0.0000   2.5053 0.0122   0.0000  0.0000\n",
      "YOJ             0.0049   0.0076   0.6532 0.5136  -0.0099  0.0197\n",
      "DEROG           1.0623   0.1065   9.9716 0.0000   0.8535  1.2711\n",
      "DELINQ          1.0136   0.0694  14.5994 0.0000   0.8775  1.1496\n",
      "CLAGE          -0.0042   0.0007  -5.9187 0.0000  -0.0055 -0.0028\n",
      "NINQ            0.1207   0.0324   3.7253 0.0002   0.0572  0.1842\n",
      "CLNO           -0.0326   0.0063  -5.1366 0.0000  -0.0450 -0.0201\n",
      "DEBTINC         0.1780   0.0079  22.5812 0.0000   0.1626  0.1935\n",
      "REASON_DebtCon -2.2399   0.2054 -10.9071 0.0000  -2.6424 -1.8374\n",
      "REASON_HomeImp -3.1543   0.2285 -13.8044 0.0000  -3.6022 -2.7065\n",
      "REASON_Other   -1.9426   0.5183  -3.7483 0.0002  -2.9584 -0.9268\n",
      "JOB_Mgr        -5.2204   0.2711 -19.2540 0.0000  -5.7518 -4.6890\n",
      "JOB_Office     -6.0786   0.2998 -20.2727 0.0000  -6.6663 -5.4909\n",
      "JOB_Other      -3.9986   0.2149 -18.6108 0.0000  -4.4197 -3.5775\n",
      "JOB_ProfExe    -4.6789   0.2342 -19.9758 0.0000  -5.1380 -4.2198\n",
      "JOB_Sales      -4.4027   0.4779  -9.2132 0.0000  -5.3393 -3.4661\n",
      "JOB_Self       -5.0024   0.5121  -9.7678 0.0000  -6.0061 -3.9986\n",
      "JOB_Unknown    -8.4942   1.6762  -5.0676 0.0000 -11.7795 -5.2090\n",
      "================================================================\n",
      "\n"
     ]
    }
   ],
   "source": [
    "import statsmodels.api as sm\n",
    "logit_model=sm.Logit(y,X)\n",
    "result=logit_model.fit()\n",
    "print(result.summary2())"
   ]
  },
  {
   "cell_type": "code",
   "execution_count": 60,
   "id": "d2452a10",
   "metadata": {},
   "outputs": [
    {
     "name": "stdout",
     "output_type": "stream",
     "text": [
      "Optimization terminated successfully.\n",
      "         Current function value: 0.273279\n",
      "         Iterations 9\n",
      "                         Results: Logit\n",
      "================================================================\n",
      "Model:              Logit            Pseudo R-squared: 0.606    \n",
      "Dependent Variable: BAD              AIC:              2499.8877\n",
      "Date:               2022-01-05 15:40 BIC:              2615.3327\n",
      "No. Observations:   4508             Log-Likelihood:   -1231.9  \n",
      "Df Model:           17               LL-Null:          -3124.7  \n",
      "Df Residuals:       4490             LLR p-value:      0.0000   \n",
      "Converged:          1.0000           Scale:            1.0000   \n",
      "No. Iterations:     9.0000                                      \n",
      "----------------------------------------------------------------\n",
      "                Coef.  Std.Err.    z     P>|z|   [0.025   0.975]\n",
      "----------------------------------------------------------------\n",
      "LOAN           -0.0000   0.0000  -4.1799 0.0000  -0.0000 -0.0000\n",
      "VALUE           0.0000   0.0000   5.0380 0.0000   0.0000  0.0000\n",
      "DEROG           1.0618   0.1065   9.9691 0.0000   0.8530  1.2705\n",
      "DELINQ          1.0164   0.0692  14.6812 0.0000   0.8807  1.1521\n",
      "CLAGE          -0.0041   0.0007  -5.8658 0.0000  -0.0054 -0.0027\n",
      "NINQ            0.1177   0.0323   3.6506 0.0003   0.0545  0.1809\n",
      "CLNO           -0.0332   0.0062  -5.3686 0.0000  -0.0453 -0.0211\n",
      "DEBTINC         0.1779   0.0079  22.6222 0.0000   0.1625  0.1933\n",
      "REASON_DebtCon -2.2286   0.2046 -10.8932 0.0000  -2.6296 -1.8276\n",
      "REASON_HomeImp -3.1363   0.2273 -13.7966 0.0000  -3.5819 -2.6908\n",
      "REASON_Other   -1.9313   0.5174  -3.7325 0.0002  -2.9455 -0.9172\n",
      "JOB_Mgr        -5.2202   0.2704 -19.3067 0.0000  -5.7501 -4.6903\n",
      "JOB_Office     -6.0616   0.2980 -20.3391 0.0000  -6.6457 -5.4774\n",
      "JOB_Other      -3.9847   0.2137 -18.6425 0.0000  -4.4036 -3.5657\n",
      "JOB_ProfExe    -4.6715   0.2337 -19.9926 0.0000  -5.1295 -4.2135\n",
      "JOB_Sales      -4.4039   0.4780  -9.2127 0.0000  -5.3408 -3.4670\n",
      "JOB_Self       -5.0298   0.5100  -9.8619 0.0000  -6.0294 -4.0301\n",
      "JOB_Unknown    -8.5152   1.6965  -5.0193 0.0000 -11.8403 -5.1901\n",
      "================================================================\n",
      "\n"
     ]
    }
   ],
   "source": [
    "#P-values for most variables are smaller than 0.05, except 2 variables \"MORTDUE\" and \"YOJ\". \n",
    "cols=['LOAN', 'VALUE', 'DEROG', 'DELINQ','CLAGE', 'NINQ', 'CLNO', 'DEBTINC', 'REASON_DebtCon','REASON_HomeImp', 'REASON_Other', 'JOB_Mgr', 'JOB_Office','JOB_Other', 'JOB_ProfExe', 'JOB_Sales', 'JOB_Self', 'JOB_Unknown']\n",
    "X=os_data_X[cols]\n",
    "y=os_data_y['BAD']\n",
    "\n",
    "import statsmodels.api as sm\n",
    "logit_model=sm.Logit(y,X)\n",
    "result=logit_model.fit()\n",
    "print(result.summary2())"
   ]
  },
  {
   "cell_type": "markdown",
   "id": "96a420f2",
   "metadata": {},
   "source": [
    "P-values for all variables are all now smaller than 0.05. "
   ]
  },
  {
   "cell_type": "code",
   "execution_count": 61,
   "id": "a15c651f",
   "metadata": {},
   "outputs": [
    {
     "data": {
      "text/plain": [
       "LogisticRegression()"
      ]
     },
     "execution_count": 61,
     "metadata": {},
     "output_type": "execute_result"
    }
   ],
   "source": [
    "#Logistic Regression Model Fitting\n",
    "from sklearn.linear_model import LogisticRegression\n",
    "from sklearn import metrics\n",
    "X_train, X_test, y_train, y_test = train_test_split(X, y, test_size=0.3, random_state=0)\n",
    "logreg = LogisticRegression()\n",
    "logreg.fit(X_train, y_train)"
   ]
  },
  {
   "cell_type": "code",
   "execution_count": 62,
   "id": "71fec826",
   "metadata": {},
   "outputs": [
    {
     "name": "stdout",
     "output_type": "stream",
     "text": [
      "Accuracy of logistic regression classifier on test set: 0.66\n"
     ]
    }
   ],
   "source": [
    "#Calculating accuracy \n",
    "y_pred = logreg.predict(X_test)\n",
    "print('Accuracy of logistic regression classifier on test set: {:.2f}'.format(logreg.score(X_test, y_test)))"
   ]
  },
  {
   "cell_type": "code",
   "execution_count": 63,
   "id": "ddd796c5",
   "metadata": {},
   "outputs": [
    {
     "name": "stdout",
     "output_type": "stream",
     "text": [
      "[[411 277]\n",
      " [189 476]]\n"
     ]
    }
   ],
   "source": [
    "from sklearn.metrics import confusion_matrix\n",
    "confusion_matrix = confusion_matrix(y_test, y_pred)\n",
    "print(confusion_matrix)"
   ]
  },
  {
   "cell_type": "markdown",
   "id": "4fbed0eb",
   "metadata": {},
   "source": [
    "Result shows 411 + 476 correct predictions and 277 + 189 incorrect predictions.  "
   ]
  },
  {
   "cell_type": "code",
   "execution_count": 64,
   "id": "8a1f397f",
   "metadata": {},
   "outputs": [
    {
     "name": "stdout",
     "output_type": "stream",
     "text": [
      "              precision    recall  f1-score   support\n",
      "\n",
      "           0       0.69      0.60      0.64       688\n",
      "           1       0.63      0.72      0.67       665\n",
      "\n",
      "    accuracy                           0.66      1353\n",
      "   macro avg       0.66      0.66      0.65      1353\n",
      "weighted avg       0.66      0.66      0.65      1353\n",
      "\n"
     ]
    }
   ],
   "source": [
    "from sklearn.metrics import classification_report\n",
    "print(classification_report(y_test, y_pred))"
   ]
  },
  {
   "cell_type": "code",
   "execution_count": 65,
   "id": "ac2da9bf",
   "metadata": {},
   "outputs": [
    {
     "data": {
      "image/png": "[encoded data removed]",
      "text/plain": [
       "<Figure size 432x288 with 1 Axes>"
      ]
     },
     "metadata": {},
     "output_type": "display_data"
    }
   ],
   "source": [
    "from sklearn.metrics import roc_auc_score\n",
    "from sklearn.metrics import roc_curve\n",
    "logit_roc_auc = roc_auc_score(y_test, logreg.predict(X_test))\n",
    "fpr, tpr, thresholds = roc_curve(y_test, logreg.predict_proba(X_test)[:,1])\n",
    "plt.figure()\n",
    "plt.plot(fpr, tpr, label='Logistic Regression (area = %0.2f)' % logit_roc_auc)\n",
    "plt.plot([0, 1], [0, 1],'r--')\n",
    "plt.xlim([0.0, 1.0])\n",
    "plt.ylim([0.0, 1.05])\n",
    "plt.xlabel('False Positive Rate')\n",
    "plt.ylabel('True Positive Rate')\n",
    "plt.title('Receiver operating characteristic')\n",
    "plt.legend(loc=\"lower right\")\n",
    "plt.savefig('Log_ROC')\n",
    "plt.show()"
   ]
  },
  {
   "cell_type": "markdown",
   "id": "47ea8716",
   "metadata": {},
   "source": [
    "Running a logistical regression yielded an accuracy rate of 66%. "
   ]
  },
  {
   "cell_type": "code",
   "execution_count": null,
   "id": "93af2ae9",
   "metadata": {},
   "outputs": [],
   "source": []
  }
 ],
 "metadata": {
  "kernelspec": {
   "display_name": "Python 3",
   "language": "python",
   "name": "python3"
  },
  "language_info": {
   "codemirror_mode": {
    "name": "ipython",
    "version": 3
   },
   "file_extension": ".py",
   "mimetype": "text/x-python",
   "name": "python",
   "nbconvert_exporter": "python",
   "pygments_lexer": "ipython3",
   "version": "3.8.8"
  }
 },
 "nbformat": 4,
 "nbformat_minor": 5
}
